{
 "cells": [
  {
   "cell_type": "code",
   "execution_count": 4,
   "id": "b0d0d2ff",
   "metadata": {},
   "outputs": [
    {
     "name": "stdout",
     "output_type": "stream",
     "text": [
      "Test data accuracy: 0.6009036144578314\n",
      "Training data accuracy: 0.6085271317829457\n",
      "Best hyperparameters: {'C': 1.0}\n",
      "Precision: 0.6377885699916181\n",
      "Recall: 0.60623869801085\n",
      "F1 score: 0.5281893910502158\n",
      "Confusion matrix for all data:\n",
      " [[ 540  881    0]\n",
      " [  70 2131    8]\n",
      " [  94  689   11]]\n"
     ]
    },
    {
     "data": {
      "image/png": "[encoded data removed]",
      "text/plain": [
       "<Figure size 640x480 with 1 Axes>"
      ]
     },
     "metadata": {},
     "output_type": "display_data"
    }
   ],
   "source": [
    "import pandas as pd\n",
    "import numpy as np\n",
    "from sklearn.linear_model import LogisticRegression\n",
    "from sklearn.model_selection import train_test_split, GridSearchCV\n",
    "from sklearn.metrics import accuracy_score, confusion_matrix, precision_recall_fscore_support\n",
    "import matplotlib.pyplot as plt\n",
    "import seaborn as sns\n",
    "\n",
    "# Load the dataset\n",
    "student_data = pd.read_csv(\"./dataset.csv\")\n",
    "\n",
    "# Remove redundant data rows\n",
    "student_data = student_data.drop_duplicates()\n",
    "\n",
    "# Remove rows with null values\n",
    "student_data = student_data.dropna()\n",
    "\n",
    "\n",
    "\n",
    "# Select the features and target\n",
    "features = student_data.loc[:, [\"Mother's occupation\", \"Father's occupation\", \"Debtor\", \"Tuition fees up to date\", \"Scholarship holder\"]]\n",
    "target = student_data.loc[:, \"Target\"]\n",
    "\n",
    "\n",
    "# Convert target variable to numerical labels\n",
    "target = pd.factorize(target)[0]\n",
    "\n",
    "# Split the data into training and testing sets\n",
    "X_train, X_test, y_train, y_test = train_test_split(features, target, test_size=0.3, random_state=42)\n",
    "\n",
    "# Define the hyperparameters to tune\n",
    "params = {'C': np.logspace(-3, 3, num=7)}\n",
    "\n",
    "# Train the logistic regression model using GridSearchCV for hyperparameter tuning\n",
    "clf = GridSearchCV(LogisticRegression(random_state=42, multi_class='multinomial', solver='lbfgs', max_iter=1000), params).fit(X_train, y_train)\n",
    "\n",
    "# Test the model on the testing set\n",
    "y_pred = clf.predict(X_test)\n",
    "\n",
    "# Calculate the accuracy score for test data\n",
    "accuracy_test = accuracy_score(y_test, y_pred)\n",
    "\n",
    "# Calculate the accuracy score for training data\n",
    "y_pred_train = clf.predict(X_train)\n",
    "accuracy_train = accuracy_score(y_train, y_pred_train)\n",
    "\n",
    "# Concatenate the predicted target variables from the training and testing sets\n",
    "y_pred_all = np.concatenate((y_pred_train, y_pred))\n",
    "\n",
    "# Concatenate the true target variables from the training and testing sets\n",
    "y_true_all = np.concatenate((y_train, y_test))\n",
    "\n",
    "# Calculate the confusion matrix for all data\n",
    "conf_matrix_all = confusion_matrix(y_true_all, y_pred_all)\n",
    "\n",
    "# Calculate the precision, recall, f1 score for all data\n",
    "precision, recall, f1_score, _ = precision_recall_fscore_support(y_true_all, y_pred_all, average='weighted')\n",
    "\n",
    "# Print the results\n",
    "print(\"Test data accuracy:\", accuracy_test)\n",
    "print(\"Training data accuracy:\", accuracy_train)\n",
    "print(\"Best hyperparameters:\", clf.best_params_)\n",
    "print(\"Precision:\", precision)\n",
    "print(\"Recall:\", recall)\n",
    "print(\"F1 score:\", f1_score)\n",
    "print(\"Confusion matrix for all data:\\n\", conf_matrix_all) \n",
    "\n",
    "# Displaying the results in a confusion matrix to identify where more data may be needed\n",
    "mat = confusion_matrix(y_test, y_pred)\n",
    "sns.heatmap(mat.T, square=True, annot=True, fmt='d', cbar=False)\n",
    "plt.xlabel('true label')\n",
    "plt.ylabel('predicted label')\n",
    "plt.show()\n"
   ]
  },
  {
   "cell_type": "code",
   "execution_count": null,
   "id": "8ebc4e1e",
   "metadata": {},
   "outputs": [],
   "source": []
  }
 ],
 "metadata": {
  "kernelspec": {
   "display_name": "Python 3 (ipykernel)",
   "language": "python",
   "name": "python3"
  },
  "language_info": {
   "codemirror_mode": {
    "name": "ipython",
    "version": 3
   },
   "file_extension": ".py",
   "mimetype": "text/x-python",
   "name": "python",
   "nbconvert_exporter": "python",
   "pygments_lexer": "ipython3",
   "version": "3.9.13"
  }
 },
 "nbformat": 4,
 "nbformat_minor": 5
}
