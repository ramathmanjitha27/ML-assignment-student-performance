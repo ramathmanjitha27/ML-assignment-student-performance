{
 "cells": [
  {
   "cell_type": "code",
   "execution_count": null,
   "id": "f2dad172",
   "metadata": {},
   "outputs": [],
   "source": [
    "import numpy as np\n",
    "import pandas as pd\n",
    "\n",
    "import matplotlib.pyplot as plt\n",
    "%matplotlib inline\n",
    "import plotly.express as px\n",
    "\n",
    "import seaborn as sns\n",
    "\n",
    "from sklearn.preprocessing import StandardScaler\n",
    "from sklearn.decomposition import PCA\n",
    "\n",
    "from sklearn.model_selection import train_test_split\n",
    "from sklearn.model_selection import GridSearchCV, RandomizedSearchCV\n",
    "from scipy.stats import uniform\n",
    "\n",
    "from sklearn.metrics import accuracy_score, precision_score, recall_score, f1_score, confusion_matrix\n",
    "from sklearn.metrics import classification_report\n",
    "\n",
    "import warnings\n",
    "warnings.filterwarnings('ignore')"
   ]
  },
  {
   "cell_type": "code",
   "execution_count": null,
   "id": "2a532e0d",
   "metadata": {},
   "outputs": [],
   "source": [
    "student_data = pd.read_csv('dataset.csv')"
   ]
  },
  {
   "cell_type": "code",
   "execution_count": null,
   "id": "95c948ad",
   "metadata": {},
   "outputs": [],
   "source": [
    "# check the shape of the data set(no. of rows and columns )\n",
    "student_data.shape"
   ]
  },
  {
   "cell_type": "code",
   "execution_count": null,
   "id": "3a067191",
   "metadata": {},
   "outputs": [],
   "source": [
    "# check the columns name\n",
    "student_data.columns"
   ]
  },
  {
   "cell_type": "code",
   "execution_count": null,
   "id": "35e56ae5",
   "metadata": {},
   "outputs": [],
   "source": [
    "# check how data looks\n",
    "student_data.head(5)"
   ]
  },
  {
   "cell_type": "code",
   "execution_count": null,
   "id": "561d9a0f",
   "metadata": {},
   "outputs": [],
   "source": [
    "# check the data mathematically\n",
    "student_data.describe()"
   ]
  },
  {
   "cell_type": "code",
   "execution_count": null,
   "id": "cfd9edf2",
   "metadata": {},
   "outputs": [],
   "source": [
    "# check if there are null values\n",
    "print(student_data.isnull().sum())"
   ]
  },
  {
   "cell_type": "code",
   "execution_count": null,
   "id": "68811cc4",
   "metadata": {},
   "outputs": [],
   "source": [
    "student_data = student_data[['Mother\\'s occupation', 'Father\\'s occupation','Debtor', 'Tuition fees up to date', 'Scholarship holder', 'Target']]\n"
   ]
  },
  {
   "cell_type": "code",
   "execution_count": null,
   "id": "f8b5673c",
   "metadata": {},
   "outputs": [],
   "source": [
    "student_data['Target']"
   ]
  },
  {
   "cell_type": "code",
   "execution_count": null,
   "id": "dd340001",
   "metadata": {},
   "outputs": [],
   "source": [
    "# check the target\n",
    "student_data['Target'].unique()"
   ]
  },
  {
   "cell_type": "code",
   "execution_count": null,
   "id": "782ff666",
   "metadata": {},
   "outputs": [],
   "source": [
    "# chenge the target value in to numarical\n",
    "student_data['Target'] = student_data['Target'].map({\n",
    "    'Dropout':0,\n",
    "    'Enrolled':1,\n",
    "    'Graduate':2\n",
    "})"
   ]
  },
  {
   "cell_type": "code",
   "execution_count": null,
   "id": "487cf6cb",
   "metadata": {},
   "outputs": [],
   "source": [
    "# chech if Target colunm filled with 0,1 and 2\n",
    "student_data"
   ]
  },
  {
   "cell_type": "code",
   "execution_count": null,
   "id": "7308dd8c",
   "metadata": {},
   "outputs": [],
   "source": [
    "# Extract Input & Output Columns\n",
    "x = student_data.iloc[:,0:5]\n",
    "y = student_data.iloc[:,-1]\n",
    "\n",
    "\n",
    "#Splitting the data into Training & Testing Data\n",
    "X_train,X_test,y_train,y_test = train_test_split(x,y,test_size=0.2)"
   ]
  },
  {
   "cell_type": "code",
   "execution_count": null,
   "id": "0d4d0c7f",
   "metadata": {},
   "outputs": [],
   "source": [
    "# check the shapes of the splitted data\n",
    "print(X_train.shape)\n",
    "print(X_test.shape)\n",
    "print(y_train.shape)\n",
    "print(y_test.shape)"
   ]
  },
  {
   "cell_type": "code",
   "execution_count": null,
   "id": "13f0158e",
   "metadata": {},
   "outputs": [],
   "source": [
    "from sklearn.svm import SVC\n",
    "\n",
    "# Scale the data using StandardScaler\n",
    "scaler = StandardScaler()\n",
    "X_train = scaler.fit_transform(X_train)\n",
    "X_test = scaler.transform(X_test)\n",
    "\n",
    "# Train the SVM model using the selected variables as input features and the \"Target\" column as the target variable\n",
    "from sklearn.svm import SVC\n",
    "svm = SVC(kernel='linear',C=100)\n",
    "svm.fit(X_train, y_train)"
   ]
  },
  {
   "cell_type": "code",
   "execution_count": null,
   "id": "a8e7b84e",
   "metadata": {},
   "outputs": [],
   "source": [
    "# Evaluate the model's performance using the testing set and appropriate metrics\n",
    "y_pred = svm.predict(X_test)\n",
    "print('Accuracy:', accuracy_score(y_test, y_pred))\n",
    "print('Precision:', precision_score(y_test, y_pred, average='weighted'))\n",
    "print('Recall:', recall_score(y_test, y_pred, average='weighted'))\n",
    "print('F1 score:', f1_score(y_test, y_pred, average='weighted'))"
   ]
  },
  {
   "cell_type": "code",
   "execution_count": null,
   "id": "117c64f3",
   "metadata": {},
   "outputs": [],
   "source": [
    "# Displaying the accuracy score and report with precison, recall and f1-scores\n",
    "print('Accuracy score: ',accuracy_score(y_test,y_pred))\n",
    "\n",
    "print(classification_report(y_pred, y_test))\n",
    "\n",
    "\n",
    "# Displaying the results in a confusion matrix to identify where more data may be needed\n",
    "mat = confusion_matrix(y_test, y_pred)\n",
    "sns.heatmap(mat.T, square=True, annot=True, fmt='d', cbar=False)\n",
    "plt.xlabel('true label')\n",
    "plt.ylabel('predicted label')"
   ]
  },
  {
   "cell_type": "code",
   "execution_count": null,
   "id": "620e0cd4",
   "metadata": {},
   "outputs": [],
   "source": [
    "# Define the parameter distributions to search over\n",
    "param_distributions = {\n",
    "    'C': uniform(0.1, 10),\n",
    "    'kernel': ['linear', 'rbf', 'poly', 'sigmoid'],\n",
    "    'gamma': ['scale', 'auto'] + list(np.arange(0.01, 1, 0.01)),\n",
    "}\n",
    "\n",
    "# Create the RandomizedSearchCV object with 5-fold cross-validation and 100 iterations\n",
    "random_search = RandomizedSearchCV(svm, param_distributions, n_iter=100, cv=5)\n",
    "\n",
    "# Fit the RandomizedSearchCV object to the training data\n",
    "random_search.fit(X_train, y_train)\n",
    "\n",
    "# Print the best hyperparameters found by RandomizedSearchCV\n",
    "print('Best hyperparameters:', random_search.best_params_)\n",
    "\n",
    "C = random_search.best_params_['C']\n",
    "G = random_search.best_params_['gamma']\n",
    "K = random_search.best_params_['kernel']"
   ]
  },
  {
   "cell_type": "code",
   "execution_count": null,
   "id": "9a7c41a1",
   "metadata": {},
   "outputs": [],
   "source": [
    "# check the accuracy again with RandomizedSearchCV generated values\n",
    "svm = SVC(C=C,gamma=G,kernel=K)\n",
    "svm.fit(X_train, y_train)\n",
    "\n",
    "y_pred = svm.predict(X_test)\n",
    "print('Accuracy:', accuracy_score(y_test, y_pred))"
   ]
  },
  {
   "cell_type": "code",
   "execution_count": null,
   "id": "0abd8c93",
   "metadata": {},
   "outputs": [],
   "source": []
  }
 ],
 "metadata": {
  "kernelspec": {
   "display_name": "Python 3 (ipykernel)",
   "language": "python",
   "name": "python3"
  },
  "language_info": {
   "codemirror_mode": {
    "name": "ipython",
    "version": 3
   },
   "file_extension": ".py",
   "mimetype": "text/x-python",
   "name": "python",
   "nbconvert_exporter": "python",
   "pygments_lexer": "ipython3",
   "version": "3.9.13"
  }
 },
 "nbformat": 4,
 "nbformat_minor": 5
}
